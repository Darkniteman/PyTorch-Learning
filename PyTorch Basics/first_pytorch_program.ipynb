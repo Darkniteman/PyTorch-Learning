{
  "nbformat": 4,
  "nbformat_minor": 0,
  "metadata": {
    "colab": {
      "provenance": []
    },
    "kernelspec": {
      "name": "python3",
      "display_name": "Python 3"
    },
    "language_info": {
      "name": "python"
    }
  },
  "cells": [
    {
      "cell_type": "code",
      "execution_count": 1,
      "metadata": {
        "id": "Axjrgl-2fb7O"
      },
      "outputs": [],
      "source": [
        "#Import pytorch\n",
        "import torch"
      ]
    },
    {
      "cell_type": "code",
      "source": [
        "#Creating 2 tensors\n",
        "tensor1=torch.rand(3,3)\n",
        "tensor2=torch.rand(3,3)"
      ],
      "metadata": {
        "id": "_SW30nKngHXH"
      },
      "execution_count": 4,
      "outputs": []
    },
    {
      "cell_type": "code",
      "source": [
        "#Multiply the 2 tensor by using matmult function which refers to Matrix Multiplication\n",
        "result=torch.matmul(tensor1,tensor2)"
      ],
      "metadata": {
        "id": "sWQwE6SWgekx"
      },
      "execution_count": 5,
      "outputs": []
    },
    {
      "cell_type": "code",
      "source": [
        "#Print tensor1, tensor2, Result\n",
        "print(f\"Tensor 1 is\\n {tensor1}\")\n",
        "print(f\"Tensor 2 is\\n {tensor2}\")\n",
        "print(f\"Result is\\n {result}\")\n"
      ],
      "metadata": {
        "colab": {
          "base_uri": "https://localhost:8080/"
        },
        "id": "ydETP7Rbgu7C",
        "outputId": "e4f8b30a-fdbc-48d7-9e79-9e3b1616eb5f"
      },
      "execution_count": 11,
      "outputs": [
        {
          "output_type": "stream",
          "name": "stdout",
          "text": [
            "Tensor 1 is\n",
            " tensor([[0.9315, 0.1864, 0.3963],\n",
            "        [0.7610, 0.8195, 0.6769],\n",
            "        [0.7177, 0.9490, 0.0435]])\n",
            "Tensor 2 is\n",
            " tensor([[0.7171, 0.3627, 0.1161],\n",
            "        [0.4307, 0.6883, 0.7812],\n",
            "        [0.1600, 0.1889, 0.2575]])\n",
            "Result is\n",
            " tensor([[0.8117, 0.5410, 0.3557],\n",
            "        [1.0070, 0.9680, 0.9028],\n",
            "        [0.9304, 0.9217, 0.8359]])\n"
          ]
        }
      ]
    },
    {
      "cell_type": "code",
      "source": [
        "if torch.cuda.is_available():\n",
        "  tersor1=tensor1.to(\"cuda\")\n",
        "  tensor2=tensor2.to(\"cuda\")\n",
        "  result=torch.matmul(tensor1,tensor2)\n",
        "  print(f\"Result is\\n {result}\")\n",
        "else:\n",
        "  print(\"CUDA is not available\")"
      ],
      "metadata": {
        "colab": {
          "base_uri": "https://localhost:8080/"
        },
        "id": "v9L4lfmLiRZo",
        "outputId": "05d0a74d-23af-438c-bede-fc9e9b8eaa50"
      },
      "execution_count": 14,
      "outputs": [
        {
          "output_type": "stream",
          "name": "stdout",
          "text": [
            "CUDA is not available\n"
          ]
        }
      ]
    }
  ]
}